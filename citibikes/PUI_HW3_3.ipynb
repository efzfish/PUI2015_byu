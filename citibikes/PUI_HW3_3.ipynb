{
 "cells": [
  {
   "cell_type": "markdown",
   "metadata": {},
   "source": [
    "# Assignment 3"
   ]
  },
  {
   "cell_type": "code",
   "execution_count": 76,
   "metadata": {
    "collapsed": false
   },
   "outputs": [
    {
     "name": "stdout",
     "output_type": "stream",
     "text": [
      "Populating the interactive namespace from numpy and matplotlib\n"
     ]
    }
   ],
   "source": [
    "import pylab as pl\n",
    "import pandas as pd\n",
    "import numpy as np\n",
    "%pylab inline\n",
    "\n",
    "df = pd.read_csv('201502-citibike-tripdata.csv')"
   ]
  },
  {
   "cell_type": "markdown",
   "metadata": {},
   "source": [
    "## Idea\n",
    "### Bike durations of old people tend to be longer.\n",
    "## Null Hypothesis\n",
    "### The mean of bike durations of people under 60 is bigger than or equal to that of people over 60.\n",
    "## Alternative Hypothesis\n",
    "### The mean of bike durations of people under 60 is smaller than that of people over 60.\n",
    "## Significance Level: $\\alpha$=0.05"
   ]
  },
  {
   "cell_type": "markdown",
   "metadata": {},
   "source": [
    "## Histograms of trip durations"
   ]
  },
  {
   "cell_type": "code",
   "execution_count": 78,
   "metadata": {
    "collapsed": false
   },
   "outputs": [
    {
     "data": {
      "text/plain": [
       "<matplotlib.axes._subplots.AxesSubplot at 0x10a3a5f90>"
      ]
     },
     "execution_count": 78,
     "metadata": {},
     "output_type": "execute_result"
    },
    {
     "data": {
      "image/png": "[encoded data removed]",
      "text/plain": [
       "<matplotlib.figure.Figure at 0x10ea70050>"
      ]
     },
     "metadata": {},
     "output_type": "display_data"
    },
    {
     "data": {
      "image/png": "[encoded data removed]",
      "text/plain": [
       "<matplotlib.figure.Figure at 0x10beb3650>"
      ]
     },
     "metadata": {},
     "output_type": "display_data"
    }
   ],
   "source": [
    "df['TDE'] = df['tripduration'][(df['usertype'] == 'Subscriber') & (df['birth year'] <= 1955) & (df['tripduration'] <= 2700)]\n",
    "df['TDY'] = df['tripduration'][(df['usertype'] == 'Subscriber') & (df['birth year'] > 1955) & (df['tripduration'] <= 2700)]\n",
    "\n",
    "bins = np.arange(0, 3000, 300)\n",
    "df.TDE.groupby(pd.cut(df.TDE, bins)).agg([count_nonzero]).plot(kind='bar',color='skyblue',label='haha')\n",
    "df.TDY.groupby(pd.cut(df.TDY, bins)).agg([count_nonzero]).plot(kind='bar')"
   ]
  },
  {
   "cell_type": "markdown",
   "metadata": {},
   "source": [
    "## Hypothesis Testing"
   ]
  },
  {
   "cell_type": "markdown",
   "metadata": {},
   "source": [
    "### In this problem we will apply Welch's t-test, which is used when the two population variances are not assumed to be equal and hence must be estimated separately. The t-statistic $$t = {\\; \\overline{X}_1 - \\overline{X}_2 \\; \\over \\sqrt{ \\; {s_1^2 \\over N_1} \\; + \\; {s_2^2 \\over N_2} \\quad }}$$"
   ]
  },
  {
   "cell_type": "code",
   "execution_count": 81,
   "metadata": {
    "collapsed": false
   },
   "outputs": [],
   "source": [
    "# calculate mean and variance\n",
    "\n",
    "TDE_count = np.count_nonzero(np.isnan(df['TDE']))\n",
    "TDY_count = np.count_nonzero(np.isnan(df['TDY']))\n",
    "TDE_mean = mean(df['TDE'])\n",
    "TDY_mean = mean(df['TDY'])\n",
    "TDE_var = var(df['TDE'])\n",
    "TDY_var = var(df['TDY'])"
   ]
  },
  {
   "cell_type": "code",
   "execution_count": 80,
   "metadata": {
    "collapsed": false
   },
   "outputs": [
    {
     "name": "stdout",
     "output_type": "stream",
     "text": [
      "29.2838826472\n"
     ]
    }
   ],
   "source": [
    "# calculate t-statistic\n",
    "t = ( TDE_mean - TDY_mean ) / np.sqrt( TDE_var / TDE_count + TDY_var / TDY_count )\n",
    "print t"
   ]
  },
  {
   "cell_type": "markdown",
   "metadata": {},
   "source": [
    "### Since $t>1.65$ (this is an one-side test), we can reject the null hypothesis."
   ]
  },
  {
   "cell_type": "code",
   "execution_count": null,
   "metadata": {
    "collapsed": true
   },
   "outputs": [],
   "source": []
  }
 ],
 "metadata": {
  "kernelspec": {
   "display_name": "Python 2",
   "language": "python",
   "name": "python2"
  },
  "language_info": {
   "codemirror_mode": {
    "name": "ipython",
    "version": 2
   },
   "file_extension": ".py",
   "mimetype": "text/x-python",
   "name": "python",
   "nbconvert_exporter": "python",
   "pygments_lexer": "ipython2",
   "version": "2.7.10"
  }
 },
 "nbformat": 4,
 "nbformat_minor": 0
}
